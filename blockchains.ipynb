{
 "cells": [
  {
   "cell_type": "markdown",
   "metadata": {},
   "source": [
    "# Step 1: import the Module"
   ]
  },
  {
   "cell_type": "code",
   "execution_count": 1,
   "metadata": {},
   "outputs": [],
   "source": [
    "import hashlib as hasher\n",
    "import json"
   ]
  },
  {
   "cell_type": "markdown",
   "metadata": {},
   "source": [
    "# Step 2: Define block chains and add hash and blocks"
   ]
  },
  {
   "cell_type": "code",
   "execution_count": 2,
   "metadata": {},
   "outputs": [],
   "source": [
    "blockchains = []"
   ]
  },
  {
   "cell_type": "code",
   "execution_count": 12,
   "metadata": {},
   "outputs": [],
   "source": [
    "def hash(data,previous_hash):\n",
    "    sha = hasher.sha256()\n",
    "    sha.update(\"{0}{1}\".format(data,previous_hash).encode(\"utf-8\"))\n",
    "    return sha.hexdigest()"
   ]
  },
  {
   "cell_type": "code",
   "execution_count": 13,
   "metadata": {},
   "outputs": [],
   "source": [
    "def make_a_block(data,previous_hash):\n",
    "    block = {}\n",
    "    block['data'] = data\n",
    "    block['previous_hash'] = previous_hash\n",
    "    block['hash'] = hash(data,previous_hash)\n",
    "    return block"
   ]
  },
  {
   "cell_type": "code",
   "execution_count": 14,
   "metadata": {},
   "outputs": [],
   "source": [
    "def add_a_block(data):\n",
    "    last_block = blockchains[len(blockchains)-1]\n",
    "    previous_hash = last_block['hash']\n",
    "    blockchains.append(make_a_block(data,previous_hash))"
   ]
  },
  {
   "cell_type": "code",
   "execution_count": 15,
   "metadata": {},
   "outputs": [],
   "source": [
    "def make_a_genesis_block():\n",
    "    data=\"this is the genesis block\"\n",
    "    previous_hash = 0\n",
    "    blockchains.append(make_a_block(data,previous_hash))\n",
    "    "
   ]
  },
  {
   "cell_type": "markdown",
   "metadata": {},
   "source": [
    "# Step 3: Output Block Chain Results"
   ]
  },
  {
   "cell_type": "code",
   "execution_count": 16,
   "metadata": {},
   "outputs": [
    {
     "name": "stdout",
     "output_type": "stream",
     "text": [
      "[{\"data\": \"this is the genesis block\", \"previous_hash\": 0, \"hash\": \"bb8d6f67262cdda0872593280a5b0642a07a1196bbcc3042379811cf25b8c9d1\"}, {\"data\": \"This is the block1.\", \"previous_hash\": \"bb8d6f67262cdda0872593280a5b0642a07a1196bbcc3042379811cf25b8c9d1\", \"hash\": \"391d62c95d1c82d33328b55643e299581a5d15204700b19f8b4c4ca8523854b0\"}, {\"data\": \"This is the block2.\", \"previous_hash\": \"391d62c95d1c82d33328b55643e299581a5d15204700b19f8b4c4ca8523854b0\", \"hash\": \"75d522557027e44667a1c2294ad9459473b39f5e0f041e73bf1ee234128c6436\"}, {\"data\": \"This is the block3.\", \"previous_hash\": \"75d522557027e44667a1c2294ad9459473b39f5e0f041e73bf1ee234128c6436\", \"hash\": \"7477e912dab647425df7e65c196f020a1f2f1ef1b3b4b53c982329cbdd39179d\"}]\n"
     ]
    }
   ],
   "source": [
    "if __name__ == '__main__':\n",
    "    make_a_genesis_block()\n",
    "    add_a_block(\"This is the block1.\")\n",
    "    add_a_block(\"This is the block2.\")\n",
    "    add_a_block(\"This is the block3.\")\n",
    "    print(json.dumps(blockchains))"
   ]
  },
  {
   "cell_type": "code",
   "execution_count": null,
   "metadata": {},
   "outputs": [],
   "source": []
  },
  {
   "cell_type": "code",
   "execution_count": null,
   "metadata": {},
   "outputs": [],
   "source": []
  }
 ],
 "metadata": {
  "kernelspec": {
   "display_name": "Python 3",
   "language": "python",
   "name": "python3"
  },
  "language_info": {
   "codemirror_mode": {
    "name": "ipython",
    "version": 3
   },
   "file_extension": ".py",
   "mimetype": "text/x-python",
   "name": "python",
   "nbconvert_exporter": "python",
   "pygments_lexer": "ipython3",
   "version": "3.7.3"
  }
 },
 "nbformat": 4,
 "nbformat_minor": 2
}
